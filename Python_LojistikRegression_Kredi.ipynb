{
  "nbformat": 4,
  "nbformat_minor": 0,
  "metadata": {
    "colab": {
      "provenance": [],
      "authorship_tag": "ABX9TyObXeCamtHK/EkNiUMPFlt3",
      "include_colab_link": true
    },
    "kernelspec": {
      "name": "python3",
      "display_name": "Python 3"
    },
    "language_info": {
      "name": "python"
    }
  },
  "cells": [
    {
      "cell_type": "markdown",
      "metadata": {
        "id": "view-in-github",
        "colab_type": "text"
      },
      "source": [
        "<a href=\"https://colab.research.google.com/github/mustafadanabasi/Python_LojistikRegression_KrediHesapla/blob/master/Python_LojistikRegression_Kredi.ipynb\" target=\"_parent\"><img src=\"https://colab.research.google.com/assets/colab-badge.svg\" alt=\"Open In Colab\"/></a>"
      ]
    },
    {
      "cell_type": "code",
      "execution_count": 16,
      "metadata": {
        "id": "I8BKxVHgkfuG",
        "colab": {
          "base_uri": "https://localhost:8080/"
        },
        "outputId": "f6a84178-4e6c-4f3c-e347-a4ae4a5434d5"
      },
      "outputs": [
        {
          "output_type": "stream",
          "name": "stdout",
          "text": [
            "(400, 4)\n",
            "[array(['Erkek', 'Kadın'], dtype=object)]\n",
            "(320, 4)\n",
            "(80, 4)\n",
            "(320,)\n",
            "(80,)\n",
            "              precision    recall  f1-score   support\n",
            "\n",
            "           0       0.87      0.83      0.85        48\n",
            "           1       0.76      0.81      0.79        32\n",
            "\n",
            "    accuracy                           0.82        80\n",
            "   macro avg       0.82      0.82      0.82        80\n",
            "weighted avg       0.83      0.82      0.83        80\n",
            "\n",
            "Doğruluk Değeri: 0.825\n"
          ]
        }
      ],
      "source": [
        "# Kulanıcılacak kütüphaneler import edilir\n",
        "\n",
        "#pandas (pd): Veri setini yüklemek ve veri çerçeveleriyle çalışmak için.\n",
        "#sklearn.linear_model.LogisticRegression: Lojistik regresyon modeli oluşturmak için.\n",
        "#sklearn.model_selection.train_test_split: Veriyi eğitim ve test kümelerine ayırmak için.\n",
        "#sklearn.compose.make_column_transformer: Veri dönüşümleri için.\n",
        "#sklearn.preprocessing.OneHotEncoder, LabelEncoder, StandardScaler: Kategorik ve sayısal verileri dönüştürmek için.\n",
        "\n",
        "import pandas as pd # verilere erişim sağlamak ve okumak için kullanılan kütüphane\n",
        "import numpy as np # Çok boyutlu diziler üzerinde matematiksel işlemleri yapabilmek için kütüphane\n",
        "from sklearn.linear_model import LogisticRegression\n",
        "from sklearn.model_selection import train_test_split\n",
        "\n",
        "\n",
        "#OneHotEncoder Kategorik verileri \"binary\" (0 ve 1) sütunlarına ayırır.\n",
        "  #Her benzersiz kategori için ayrı bir sütun oluşturur.\n",
        "  #Özellikle sıralı olmayan kategorik değişkenler için uygundur.\n",
        "\n",
        "from sklearn.compose import make_column_transformer\n",
        "from sklearn.preprocessing import OneHotEncoder, LabelEncoder\n",
        "from sklearn.preprocessing import StandardScaler\n",
        "\n",
        "dataset = pd.read_csv(\"kredi_veriseti.csv\") # pandas kütüphanesini kullanarak csv dosyasından verileri okumak\n",
        "dataset.head() # ilk beş veriyi gösterir\n",
        "X= dataset.drop(\"kredi\",axis=1)\n",
        "y = dataset[\"kredi\"]\n",
        "\n",
        "#StandardScaler(): Sayısal değişkenlerin ölçeğini standartlaştırır.\n",
        "#OneHotEncoder(): Kategorik değişkenleri (cinsiyet gibi) 0 ve 1 içeren ayrı sütunlara çevirir.\n",
        "\n",
        "column_strans = make_column_transformer((StandardScaler(),['yas','maas']), (OneHotEncoder(),['cinsiyet'])   )\n",
        "\n",
        "X = column_strans.fit_transform(X) # Veriye dönüşümleri uygular.\n",
        "print(X.shape) # Dönüştürülmüş veri setinin boyutunu gösterir.\n",
        "encoder = column_strans.named_transformers_['onehotencoder']\n",
        "print(encoder.categories_) # Kategorik değişkenlerin dönüşümden sonra nasıl kodlandığını gösterir.\n",
        "\n",
        "#Veriyi eğitim ve test kümelerine böler. test_size : %80 eğitim, %20 (0.2) test için ayrılmıştır. random_state: Sonuçların her çalıştırmada aynı olması için rastgelelik kontrol edilir.\n",
        "from sklearn.model_selection import train_test_split\n",
        "X_train, X_test, y_train, y_test = train_test_split(X, y, test_size=0.2, random_state=1)\n",
        "#Verilerin doğru şekilde bölündüğünü kontrol etmek için boyutları ekrana yazdırılır.\n",
        "print(X_train.shape)  # Eğitim verisinin boyutu\n",
        "print(X_test.shape)   # Test verisinin boyutu\n",
        "print(y_train.shape)  # Eğitim etiketlerinin boyutu\n",
        "print(y_test.shape)   # Test etiketlerinin boyutu\n",
        "\n",
        "#Lojistik regresyon modeli oluşturulur ve eğitim verisiyle eğitilir.\n",
        "model = LogisticRegression() #Lojistik regresyon modeli oluşturulur\n",
        "model.fit(X_train,y_train) # Lojistik regresyon modeli verisiyle eğitilir.\n",
        "y_pred = model.predict(X_test) #Test verisi üzerinde tahmin yapmak\n",
        "\n",
        "\n",
        "from sklearn.metrics import confusion_matrix,classification_report,  accuracy_score\n",
        "confusion_matrix(y_true = y_test,y_pred = y_pred) #Modelin doğru ve yanlış tahminleri hakkında bilgi verir.\n",
        "print(classification_report(y_true = y_test,y_pred = y_pred)) #\n",
        "print(\"Doğruluk Değeri:\",accuracy_score(y_true = y_test,y_pred = y_pred)) #accuracy_score(y_test, y_pred): Modelin doğruluk oranını hesaplar.\n",
        "\n"
      ]
    },
    {
      "cell_type": "code",
      "source": [],
      "metadata": {
        "id": "WCsNS29CG-Sl"
      },
      "execution_count": null,
      "outputs": []
    },
    {
      "cell_type": "code",
      "source": [],
      "metadata": {
        "id": "zFewLvy2GtDl"
      },
      "execution_count": null,
      "outputs": []
    }
  ]
}